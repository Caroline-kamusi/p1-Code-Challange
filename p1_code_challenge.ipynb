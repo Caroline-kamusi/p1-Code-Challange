{
 "cells": [
  {
   "cell_type": "markdown",
   "metadata": {
    "nbgrader": {
     "grade": false,
     "grade_id": "cell-1dc8c072d516f820",
     "locked": true,
     "schema_version": 3,
     "solution": false,
     "task": false
    }
   },
   "source": [
    "# Phase 1 Code Challenge\n",
    "This code challenge is designed to test your understanding of the Phase 1 material. It covers:\n",
    "\n",
    "- Pandas\n",
    "- Data Visualization\n",
    "- Exploring Statistical Data\n",
    "- Python Data Structures\n",
    "\n",
    "*Read the instructions carefully.* Your code will need to meet detailed specifications to pass automated tests.\n",
    "\n",
    "## Code Tests\n",
    "\n",
    "We have provided some code tests for you to run to check that your work meets the item specifications. Passing these tests does not necessarily mean that you have gotten the item correct - there are additional hidden tests. However, if any of the tests do not pass, this tells you that your code is incorrect and needs changes to meet the specification. To determine what the issue is, read the comments in the code test cells, the error message you receive, and the item instructions."
   ]
  },
  {
   "cell_type": "markdown",
   "metadata": {
    "nbgrader": {
     "grade": false,
     "grade_id": "cell-9cdee0770b4e45d9",
     "locked": true,
     "schema_version": 3,
     "solution": false,
     "task": false
    }
   },
   "source": [
    "---\n",
    "## Part 1: Pandas [Suggested Time: 15 minutes]\n",
    "---\n",
    "In this part, you will preprocess a dataset from the video game [FIFA19](https://www.kaggle.com/karangadiya/fifa19), which contains data from the players' real-life careers."
   ]
  },
  {
   "cell_type": "code",
   "execution_count": 58,
   "metadata": {
    "nbgrader": {
     "grade": false,
     "grade_id": "cell-6b5542e3f39ef221",
     "locked": true,
     "schema_version": 3,
     "solution": false,
     "task": false
    }
   },
   "outputs": [],
   "source": [
    "# Run this cell without changes\n",
    "\n",
    "import pandas as pd\n",
    "import numpy as np\n",
    "from numbers import Number\n",
    "import warnings\n",
    "warnings.filterwarnings('ignore')"
   ]
  },
  {
   "cell_type": "markdown",
   "metadata": {
    "nbgrader": {
     "grade": false,
     "grade_id": "cell-b9b25e040991b1e6",
     "locked": true,
     "schema_version": 3,
     "solution": false,
     "task": false
    }
   },
   "source": [
    "### 1.1) Read `fifa.csv` into a pandas DataFrame named `df`\n",
    "\n",
    "Use pandas to create a new DataFrame, called `df`, containing the data from the dataset in the file `fifa.csv` in the folder containing this notebook. \n",
    "\n",
    "Hint: Use the string `'./fifa.csv'` as the file reference."
   ]
  },
  {
   "cell_type": "code",
   "execution_count": 2,
   "metadata": {
    "nbgrader": {
     "grade": false,
     "grade_id": "cell-18fbca9dcea2ebbd",
     "locked": true,
     "schema_version": 3,
     "solution": false,
     "task": false
    }
   },
   "outputs": [
    {
     "data": {
      "text/html": [
       "<div>\n",
       "<style scoped>\n",
       "    .dataframe tbody tr th:only-of-type {\n",
       "        vertical-align: middle;\n",
       "    }\n",
       "\n",
       "    .dataframe tbody tr th {\n",
       "        vertical-align: top;\n",
       "    }\n",
       "\n",
       "    .dataframe thead th {\n",
       "        text-align: right;\n",
       "    }\n",
       "</style>\n",
       "<table border=\"1\" class=\"dataframe\">\n",
       "  <thead>\n",
       "    <tr style=\"text-align: right;\">\n",
       "      <th></th>\n",
       "      <th>ID</th>\n",
       "      <th>Name</th>\n",
       "      <th>Age</th>\n",
       "      <th>Photo</th>\n",
       "      <th>Nationality</th>\n",
       "      <th>Flag</th>\n",
       "      <th>Overall</th>\n",
       "      <th>Potential</th>\n",
       "      <th>Club</th>\n",
       "      <th>Club Logo</th>\n",
       "      <th>...</th>\n",
       "      <th>Composure</th>\n",
       "      <th>Marking</th>\n",
       "      <th>StandingTackle</th>\n",
       "      <th>SlidingTackle</th>\n",
       "      <th>GKDiving</th>\n",
       "      <th>GKHandling</th>\n",
       "      <th>GKKicking</th>\n",
       "      <th>GKPositioning</th>\n",
       "      <th>GKReflexes</th>\n",
       "      <th>Release Clause</th>\n",
       "    </tr>\n",
       "  </thead>\n",
       "  <tbody>\n",
       "    <tr>\n",
       "      <th>0</th>\n",
       "      <td>158023</td>\n",
       "      <td>L. Messi</td>\n",
       "      <td>31</td>\n",
       "      <td>https://cdn.sofifa.org/players/4/19/158023.png</td>\n",
       "      <td>Argentina</td>\n",
       "      <td>https://cdn.sofifa.org/flags/52.png</td>\n",
       "      <td>94</td>\n",
       "      <td>94</td>\n",
       "      <td>FC Barcelona</td>\n",
       "      <td>https://cdn.sofifa.org/teams/2/light/241.png</td>\n",
       "      <td>...</td>\n",
       "      <td>96.0</td>\n",
       "      <td>33.0</td>\n",
       "      <td>28.0</td>\n",
       "      <td>26.0</td>\n",
       "      <td>6.0</td>\n",
       "      <td>11.0</td>\n",
       "      <td>15.0</td>\n",
       "      <td>14.0</td>\n",
       "      <td>8.0</td>\n",
       "      <td>226500.0</td>\n",
       "    </tr>\n",
       "    <tr>\n",
       "      <th>1</th>\n",
       "      <td>20801</td>\n",
       "      <td>Cristiano Ronaldo</td>\n",
       "      <td>33</td>\n",
       "      <td>https://cdn.sofifa.org/players/4/19/20801.png</td>\n",
       "      <td>Portugal</td>\n",
       "      <td>https://cdn.sofifa.org/flags/38.png</td>\n",
       "      <td>94</td>\n",
       "      <td>94</td>\n",
       "      <td>Juventus</td>\n",
       "      <td>https://cdn.sofifa.org/teams/2/light/45.png</td>\n",
       "      <td>...</td>\n",
       "      <td>95.0</td>\n",
       "      <td>28.0</td>\n",
       "      <td>31.0</td>\n",
       "      <td>23.0</td>\n",
       "      <td>7.0</td>\n",
       "      <td>11.0</td>\n",
       "      <td>15.0</td>\n",
       "      <td>14.0</td>\n",
       "      <td>11.0</td>\n",
       "      <td>127100.0</td>\n",
       "    </tr>\n",
       "    <tr>\n",
       "      <th>2</th>\n",
       "      <td>190871</td>\n",
       "      <td>Neymar Jr</td>\n",
       "      <td>26</td>\n",
       "      <td>https://cdn.sofifa.org/players/4/19/190871.png</td>\n",
       "      <td>Brazil</td>\n",
       "      <td>https://cdn.sofifa.org/flags/54.png</td>\n",
       "      <td>92</td>\n",
       "      <td>93</td>\n",
       "      <td>Paris Saint-Germain</td>\n",
       "      <td>https://cdn.sofifa.org/teams/2/light/73.png</td>\n",
       "      <td>...</td>\n",
       "      <td>94.0</td>\n",
       "      <td>27.0</td>\n",
       "      <td>24.0</td>\n",
       "      <td>33.0</td>\n",
       "      <td>9.0</td>\n",
       "      <td>9.0</td>\n",
       "      <td>15.0</td>\n",
       "      <td>15.0</td>\n",
       "      <td>11.0</td>\n",
       "      <td>228100.0</td>\n",
       "    </tr>\n",
       "    <tr>\n",
       "      <th>3</th>\n",
       "      <td>193080</td>\n",
       "      <td>De Gea</td>\n",
       "      <td>27</td>\n",
       "      <td>https://cdn.sofifa.org/players/4/19/193080.png</td>\n",
       "      <td>Spain</td>\n",
       "      <td>https://cdn.sofifa.org/flags/45.png</td>\n",
       "      <td>91</td>\n",
       "      <td>93</td>\n",
       "      <td>Manchester United</td>\n",
       "      <td>https://cdn.sofifa.org/teams/2/light/11.png</td>\n",
       "      <td>...</td>\n",
       "      <td>68.0</td>\n",
       "      <td>15.0</td>\n",
       "      <td>21.0</td>\n",
       "      <td>13.0</td>\n",
       "      <td>90.0</td>\n",
       "      <td>85.0</td>\n",
       "      <td>87.0</td>\n",
       "      <td>88.0</td>\n",
       "      <td>94.0</td>\n",
       "      <td>138600.0</td>\n",
       "    </tr>\n",
       "    <tr>\n",
       "      <th>4</th>\n",
       "      <td>192985</td>\n",
       "      <td>K. De Bruyne</td>\n",
       "      <td>27</td>\n",
       "      <td>https://cdn.sofifa.org/players/4/19/192985.png</td>\n",
       "      <td>Belgium</td>\n",
       "      <td>https://cdn.sofifa.org/flags/7.png</td>\n",
       "      <td>91</td>\n",
       "      <td>92</td>\n",
       "      <td>Manchester City</td>\n",
       "      <td>https://cdn.sofifa.org/teams/2/light/10.png</td>\n",
       "      <td>...</td>\n",
       "      <td>88.0</td>\n",
       "      <td>68.0</td>\n",
       "      <td>58.0</td>\n",
       "      <td>51.0</td>\n",
       "      <td>15.0</td>\n",
       "      <td>13.0</td>\n",
       "      <td>5.0</td>\n",
       "      <td>10.0</td>\n",
       "      <td>13.0</td>\n",
       "      <td>196400.0</td>\n",
       "    </tr>\n",
       "  </tbody>\n",
       "</table>\n",
       "<p>5 rows × 88 columns</p>\n",
       "</div>"
      ],
      "text/plain": [
       "       ID               Name  Age  \\\n",
       "0  158023           L. Messi   31   \n",
       "1   20801  Cristiano Ronaldo   33   \n",
       "2  190871          Neymar Jr   26   \n",
       "3  193080             De Gea   27   \n",
       "4  192985       K. De Bruyne   27   \n",
       "\n",
       "                                            Photo Nationality  \\\n",
       "0  https://cdn.sofifa.org/players/4/19/158023.png   Argentina   \n",
       "1   https://cdn.sofifa.org/players/4/19/20801.png    Portugal   \n",
       "2  https://cdn.sofifa.org/players/4/19/190871.png      Brazil   \n",
       "3  https://cdn.sofifa.org/players/4/19/193080.png       Spain   \n",
       "4  https://cdn.sofifa.org/players/4/19/192985.png     Belgium   \n",
       "\n",
       "                                  Flag  Overall  Potential  \\\n",
       "0  https://cdn.sofifa.org/flags/52.png       94         94   \n",
       "1  https://cdn.sofifa.org/flags/38.png       94         94   \n",
       "2  https://cdn.sofifa.org/flags/54.png       92         93   \n",
       "3  https://cdn.sofifa.org/flags/45.png       91         93   \n",
       "4   https://cdn.sofifa.org/flags/7.png       91         92   \n",
       "\n",
       "                  Club                                     Club Logo  ...  \\\n",
       "0         FC Barcelona  https://cdn.sofifa.org/teams/2/light/241.png  ...   \n",
       "1             Juventus   https://cdn.sofifa.org/teams/2/light/45.png  ...   \n",
       "2  Paris Saint-Germain   https://cdn.sofifa.org/teams/2/light/73.png  ...   \n",
       "3    Manchester United   https://cdn.sofifa.org/teams/2/light/11.png  ...   \n",
       "4      Manchester City   https://cdn.sofifa.org/teams/2/light/10.png  ...   \n",
       "\n",
       "  Composure Marking  StandingTackle SlidingTackle  GKDiving  GKHandling  \\\n",
       "0      96.0    33.0            28.0          26.0       6.0        11.0   \n",
       "1      95.0    28.0            31.0          23.0       7.0        11.0   \n",
       "2      94.0    27.0            24.0          33.0       9.0         9.0   \n",
       "3      68.0    15.0            21.0          13.0      90.0        85.0   \n",
       "4      88.0    68.0            58.0          51.0      15.0        13.0   \n",
       "\n",
       "   GKKicking GKPositioning GKReflexes Release Clause  \n",
       "0       15.0          14.0        8.0       226500.0  \n",
       "1       15.0          14.0       11.0       127100.0  \n",
       "2       15.0          15.0       11.0       228100.0  \n",
       "3       87.0          88.0       94.0       138600.0  \n",
       "4        5.0          10.0       13.0       196400.0  \n",
       "\n",
       "[5 rows x 88 columns]"
      ]
     },
     "execution_count": 2,
     "metadata": {},
     "output_type": "execute_result"
    }
   ],
   "source": [
    "# CodeGrade step1.1\n",
    "# Replace None with appropriate code\n",
    "import pandas as pd \n",
    "\n",
    "df = df = pd.read_csv('fifa.csv')\n",
    "df.head()\n"
   ]
  },
  {
   "cell_type": "code",
   "execution_count": 3,
   "metadata": {},
   "outputs": [],
   "source": [
    "# This test confirms that you have created a DataFrame named df\n",
    "\n",
    "assert type(df) == pd.DataFrame"
   ]
  },
  {
   "cell_type": "markdown",
   "metadata": {
    "nbgrader": {
     "grade": false,
     "grade_id": "cell-42ef866849a4d833",
     "locked": true,
     "schema_version": 3,
     "solution": false,
     "task": false
    }
   },
   "source": [
    "### 1.2) Convert the `'Release Clause'` values from Euros to dollars\n",
    "\n",
    "The `'Release Clause'` variable contains prices denominated in Euros. Use the exchange rate `1 Euro = 1.2 Dollars` to convert the prices to dollars. "
   ]
  },
  {
   "cell_type": "code",
   "execution_count": 4,
   "metadata": {},
   "outputs": [],
   "source": [
    "# CodeGrade step1.2\n",
    "# Replace None with appropriate code\n",
    "# CONVERTING THE PRICES TO DOLLARS\n",
    "\n",
    "df['Release Clause'] = df['Release Clause'] * 1.2"
   ]
  },
  {
   "cell_type": "markdown",
   "metadata": {
    "nbgrader": {
     "grade": false,
     "grade_id": "cell-e9a1540ffff85098",
     "locked": true,
     "schema_version": 3,
     "solution": false,
     "task": false
    }
   },
   "source": [
    "### 1.3) Drop rows from `df` with missing values for the `'Release Clause'` feature.\n",
    "    \n",
    "Make sure that `df` remains the name of the dataset with the dropped rows."
   ]
  },
  {
   "cell_type": "code",
   "execution_count": 59,
   "metadata": {},
   "outputs": [],
   "source": [
    "# CodeGrade step1.3\n",
    "# Replace None with appropriate code\n",
    "# DROPPING THE ROWS WITH MISSING VALUE FOR 'REALESE CLAUSE'\n",
    "df = df.dropna(subset=['Release Clause'])"
   ]
  },
  {
   "cell_type": "code",
   "execution_count": 61,
   "metadata": {},
   "outputs": [
    {
     "data": {
      "text/plain": [
       "16643"
      ]
     },
     "execution_count": 61,
     "metadata": {},
     "output_type": "execute_result"
    }
   ],
   "source": [
    "df['Release Clause'].shape[0]"
   ]
  },
  {
   "cell_type": "code",
   "execution_count": 60,
   "metadata": {},
   "outputs": [],
   "source": [
    "# This test confirms that your dataset has the correct number of observations after dropping\n",
    "\n",
    "assert df['Release Clause'].shape[0] == 16643"
   ]
  },
  {
   "cell_type": "markdown",
   "metadata": {
    "nbgrader": {
     "grade": false,
     "grade_id": "cell-be6ad3929cc953e5",
     "locked": true,
     "schema_version": 3,
     "solution": false,
     "task": false
    }
   },
   "source": [
    "### 1.4) Create a list `top_10_countries` containing the names of the 10 countries with the most players (using the `'Nationality'` column).\n",
    "\n",
    "Hint: Your answer should include England, Germany, Spain, France, and Argentina"
   ]
  },
  {
   "cell_type": "code",
   "execution_count": 7,
   "metadata": {
    "nbgrader": {
     "grade": false,
     "grade_id": "cell-a33121d22f5d8535",
     "locked": true,
     "schema_version": 3,
     "solution": false,
     "task": false
    }
   },
   "outputs": [],
   "source": [
    "# CodeGrade step1.4\n",
    "# Replace None with appropriate code\n",
    "# LIST OF TOP 10 COUNTRIES WITH MOST PLAYERS \n",
    "top_10_countries = df['Nationality'].value_counts().head(10).index.tolist() "
   ]
  },
  {
   "cell_type": "code",
   "execution_count": 8,
   "metadata": {},
   "outputs": [],
   "source": [
    "# This test confirms that you have created a list named top_10_countries\n",
    "\n",
    "assert type(top_10_countries) == list\n",
    "\n",
    "# This test confirms that top_10_countries contains England, Germany, Spain, France, and Argentina\n",
    "\n",
    "assert set(['England', 'Germany', 'Spain', 'France', 'Argentina']).issubset(set(top_10_countries))"
   ]
  },
  {
   "cell_type": "markdown",
   "metadata": {
    "nbgrader": {
     "grade": false,
     "grade_id": "cell-f9d5841f356a5a8a",
     "locked": true,
     "schema_version": 3,
     "solution": false,
     "task": false
    }
   },
   "source": [
    "## Part 2: Data Visualization [Suggested Time: 20 minutes]\n",
    "This part uses the same FIFA dataset, and asks you to plot data using `matplotlib`."
   ]
  },
  {
   "cell_type": "code",
   "execution_count": 9,
   "metadata": {
    "nbgrader": {
     "grade": false,
     "grade_id": "cell-0b27595ca9348a59",
     "locked": true,
     "schema_version": 3,
     "solution": false,
     "task": false
    }
   },
   "outputs": [],
   "source": [
    "# Run this cell without changes\n",
    "\n",
    "import matplotlib\n",
    "import matplotlib.pyplot as plt"
   ]
  },
  {
   "cell_type": "markdown",
   "metadata": {
    "nbgrader": {
     "grade": false,
     "grade_id": "cell-112f61d031df8fca",
     "locked": true,
     "schema_version": 3,
     "solution": false,
     "task": false
    }
   },
   "source": [
    "### 2.1) Create a matplotlib figure `player_count_figure` containing a labeled bar chart with the number of players from England, Germany, Spain, France, and Argentina\n",
    "\n",
    "Use the strings provided below (`bar_chart_title`, `bar_chart_count_label`, and `bar_chart_series_label`) to title and label your bar chart. \n",
    "\n",
    "Hint: These are the countries with the top 5 numbers of players, so you may be able to adapt some of the code you used for question 1.4. If you were unable to complete 1.4, use the following values:\n",
    "\n",
    "```\n",
    "Country Name  | Num Players\n",
    "============  | ===========\n",
    "England       | 1000\n",
    "Germany       | 900\n",
    "Spain         | 800\n",
    "France        | 700\n",
    "Argentina     | 600\n",
    "```"
   ]
  },
  {
   "cell_type": "code",
   "execution_count": 15,
   "metadata": {},
   "outputs": [
    {
     "data": {
      "image/png": "[encoded data removed]",
      "text/plain": [
       "<Figure size 1000x600 with 1 Axes>"
      ]
     },
     "metadata": {},
     "output_type": "display_data"
    }
   ],
   "source": [
    "# CodeGrade step2.1\n",
    "# Replace None with appropriate code\n",
    "\n",
    "bar_chart_countries = ['England', 'Germany', 'Spain', 'France', 'Argentina']\n",
    "\n",
    "bar_chart_title = '5 Countries with the Most Players'\n",
    "bar_chart_count_label = 'Number of Players'\n",
    "bar_chart_series_label = 'Nationality'\n",
    "\n",
    "import matplotlib.pyplot as plt\n",
    "# data for the bar chat\n",
    "countries =  ['England', 'Germany', 'Spain', 'France', 'Argentina']\n",
    "num_players = [1000, 900, 800 ,700, 600]\n",
    "\n",
    "# STARTER CODE\n",
    "player_count_figure, ax = plt.subplots(figsize=(10, 6))\n",
    " # CREAT A BAR CHART\n",
    "ax.bar(countries, num_players, color='skyblue')\n",
    "\n",
    "\n",
    "x = countries\n",
    "heights = num_players\n",
    "\n",
    "ax.bar(x, heights)\n",
    "# title\n",
    "ax.set_title(bar_chart_title)\n",
    "# x-axis label\n",
    "ax.set_xlabel(bar_chart_series_label)\n",
    "# y-axis label\n",
    "ax.set_ylabel(bar_chart_count_label)\n",
    "\n",
    "# Show the bar chart\n",
    "plt.show()\n"
   ]
  },
  {
   "cell_type": "code",
   "execution_count": 16,
   "metadata": {},
   "outputs": [],
   "source": [
    "# This test confirms that you have created a figure named player_count_figure\n",
    "\n",
    "assert type(player_count_figure) == plt.Figure\n",
    "\n",
    "# This test confirms that the figure contains exactly one axis\n",
    "\n",
    "assert len(player_count_figure.axes) == 1"
   ]
  },
  {
   "cell_type": "code",
   "execution_count": 17,
   "metadata": {},
   "outputs": [],
   "source": [
    "# These tests confirm that the figure has a title and axis labels \n",
    "\n",
    "assert player_count_figure.axes[0].get_title() != ''\n",
    "assert player_count_figure.axes[0].get_ylabel() != ''\n",
    "assert player_count_figure.axes[0].get_xlabel() != ''"
   ]
  },
  {
   "cell_type": "markdown",
   "metadata": {
    "nbgrader": {
     "grade": false,
     "grade_id": "cell-70190139727d20a2",
     "locked": true,
     "schema_version": 3,
     "solution": false,
     "task": false
    }
   },
   "source": [
    "### 2.2) Create a matplotlib figure `tackle_figure` containing a labeled scatter plot visualizing the relationship between `StandingTackle` (on X axis) and `SlidingTackle` (on Y axis)\n",
    "\n",
    "Use the strings provided below (`scatter_plot_title`, `standing_tackle_label`, and `sliding_tackle_label`) to title and label your scatter plot. "
   ]
  },
  {
   "cell_type": "code",
   "execution_count": 19,
   "metadata": {
    "nbgrader": {
     "grade": false,
     "grade_id": "cell-064cad4a79f53237",
     "locked": false,
     "schema_version": 3,
     "solution": true,
     "task": false
    }
   },
   "outputs": [
    {
     "data": {
      "text/plain": [
       "Text(0, 0.5, 'Sliding Tackles')"
      ]
     },
     "execution_count": 19,
     "metadata": {},
     "output_type": "execute_result"
    },
    {
     "data": {
      "image/png": "[encoded data removed]",
      "text/plain": [
       "<Figure size 1000x600 with 1 Axes>"
      ]
     },
     "metadata": {},
     "output_type": "display_data"
    }
   ],
   "source": [
    "# CodeGrade step2.2\n",
    "\n",
    "scatter_plot_title = 'Relationship Between Standing Tackles and Sliding Tackles'\n",
    "standing_tackle_label = 'Standing Tackles'\n",
    "sliding_tackle_label = 'Sliding Tackles'\n",
    "\n",
    "tackle_figure, ax = plt.subplots(figsize=(10, 6))\n",
    "\n",
    "# Your code here\n",
    "# Assuming 'df' is the DataFrame containing the data\n",
    "standing_tackle = df['StandingTackle']\n",
    "sliding_tackle = df['SlidingTackle']\n",
    "\n",
    "ax.scatter(standing_tackle, sliding_tackle, color='blue', alpha=0.7)\n",
    "# TITLE AND LABELS\n",
    "# title\n",
    "ax.set_title(scatter_plot_title)\n",
    "# x-axis label\n",
    "ax.set_xlabel(standing_tackle_label)\n",
    "# y-axis label\n",
    "ax.set_ylabel(sliding_tackle_label)"
   ]
  },
  {
   "cell_type": "code",
   "execution_count": 20,
   "metadata": {},
   "outputs": [],
   "source": [
    "# This test confirms that you have created a figure named tackle_figure\n",
    "\n",
    "assert type(tackle_figure) == plt.Figure\n",
    "\n",
    "# This test confirms that the figure contains exactly one axis\n",
    "\n",
    "assert len(tackle_figure.axes) == 1"
   ]
  },
  {
   "cell_type": "markdown",
   "metadata": {
    "nbgrader": {
     "grade": false,
     "grade_id": "cell-d6d6af6c94216981",
     "locked": true,
     "schema_version": 3,
     "solution": false,
     "task": false
    }
   },
   "source": [
    "## Part 3: Exploring Statistical Data [Suggested Time: 20 minutes]\n",
    "This part does some exploratory analysis using the same FIFA dataset."
   ]
  },
  {
   "cell_type": "markdown",
   "metadata": {
    "nbgrader": {
     "grade": false,
     "grade_id": "cell-1f6263e9b6ccbe48",
     "locked": true,
     "schema_version": 3,
     "solution": false,
     "task": false
    }
   },
   "source": [
    "### 3.1) Create numeric variables `mean_age` and `median_age` containing the mean and median player ages (respectively)."
   ]
  },
  {
   "cell_type": "code",
   "execution_count": 21,
   "metadata": {
    "nbgrader": {
     "grade": false,
     "grade_id": "cell-8182a47b74d8308c",
     "locked": true,
     "schema_version": 3,
     "solution": false,
     "task": false
    }
   },
   "outputs": [],
   "source": [
    "# CodeGrade step3.1\n",
    "# Replace None with appropriate code\n",
    "# Numeric variables mean_age and median_age containing the mean and median player ages (respectively).\n",
    "# 'df' is the DataFrame containing the data and 'Age' is the column with player ages\n",
    "mean_age = np.mean(df['Age'])\n",
    "median_age = np.median(df['Age'])"
   ]
  },
  {
   "cell_type": "code",
   "execution_count": 22,
   "metadata": {},
   "outputs": [],
   "source": [
    "# These tests confirm that you have created numeric variables named mean_age and median_age\n",
    "\n",
    "assert isinstance(mean_age, Number)\n",
    "assert isinstance(median_age, Number)"
   ]
  },
  {
   "cell_type": "markdown",
   "metadata": {
    "nbgrader": {
     "grade": false,
     "grade_id": "cell-53c00926ddd0e281",
     "locked": true,
     "schema_version": 3,
     "solution": false,
     "task": false
    }
   },
   "source": [
    "### 3.2) Create a string variable `oldest_argentine_name` and a numeric variable `oldest_argentine_age` containing the name and age (respectively) of the oldest player with Argentina nationality."
   ]
  },
  {
   "cell_type": "code",
   "execution_count": 27,
   "metadata": {
    "nbgrader": {
     "grade": false,
     "grade_id": "cell-8a8f465bb935cc1a",
     "locked": true,
     "schema_version": 3,
     "solution": false,
     "task": false
    }
   },
   "outputs": [],
   "source": [
    "# CodeGrade step3.2\n",
    "# Replace None with appropriate code\n",
    "#'df' is the DataFrame containing the data\n",
    "argentine_players = df[df['Nationality'] == 'Argentina']\n",
    "\n",
    "oldest_argentine_player = argentine_players.loc[argentine_players['Age'].idxmax()]\n",
    "\n",
    "oldest_argentine_name = oldest_argentine_player['Name']\n",
    "oldest_argentine_age = oldest_argentine_player['Age']\n"
   ]
  },
  {
   "cell_type": "code",
   "execution_count": 28,
   "metadata": {},
   "outputs": [],
   "source": [
    "# This test confirms that you have created a string variable named oldest_argentine_name\n",
    "\n",
    "assert type(oldest_argentine_name) == str\n",
    "\n",
    "# This test confirms that you have created a numeric variable named oldest_argentine_age\n",
    "\n",
    "assert isinstance(oldest_argentine_age, Number)"
   ]
  },
  {
   "cell_type": "markdown",
   "metadata": {
    "nbgrader": {
     "grade": false,
     "grade_id": "cell-a7ce98ae6d482777",
     "locked": true,
     "schema_version": 3,
     "solution": false,
     "task": false
    }
   },
   "source": [
    "## Part 4: Python Data Structures [Suggested Time: 20 min]\n",
    "\n",
    "Below is a dictionary `players` with information about soccer players. The keys are player names and the values are dictionaries containing each player's age, nationality, and a list of teams they have played for."
   ]
  },
  {
   "cell_type": "code",
   "execution_count": 29,
   "metadata": {
    "nbgrader": {
     "grade": false,
     "grade_id": "cell-aeec0f73b4c2686e",
     "locked": true,
     "schema_version": 3,
     "solution": false,
     "task": false
    }
   },
   "outputs": [],
   "source": [
    "# Run this cell without changes\n",
    "\n",
    "players = {\n",
    "    'L. Messi': {\n",
    "        'age': 31,\n",
    "        'nationality': 'Argentina',\n",
    "        'teams': ['Barcelona']\n",
    "    },\n",
    "    'Cristiano Ronaldo': {\n",
    "        'age': 33,\n",
    "        'nationality': 'Portugal',\n",
    "        'teams': ['Juventus', 'Real Madrid', 'Manchester United']\n",
    "    },\n",
    "    'Neymar Jr': {\n",
    "        'age': 26,\n",
    "        'nationality': 'Brazil',\n",
    "        'teams': ['Santos', 'Barcelona', 'Paris Saint-German']\n",
    "    },\n",
    "    'De Gea': {\n",
    "        'age': 27,\n",
    "        'nationality': 'Spain',\n",
    "        'teams': ['Atletico Madrid', 'Manchester United']\n",
    "    },\n",
    "    'K. De Bruyne': {\n",
    "        'age': 27,\n",
    "        'nationality': 'Belgium',\n",
    "        'teams': ['Chelsea', 'Manchester City']\n",
    "    }\n",
    "}"
   ]
  },
  {
   "cell_type": "markdown",
   "metadata": {
    "nbgrader": {
     "grade": false,
     "grade_id": "cell-c53443152551683e",
     "locked": true,
     "schema_version": 3,
     "solution": false,
     "task": false
    }
   },
   "source": [
    "### 4.1) Create a list `player_names` of all the player names in dictionary `players`. "
   ]
  },
  {
   "cell_type": "code",
   "execution_count": 30,
   "metadata": {
    "nbgrader": {
     "grade": false,
     "grade_id": "cell-59b73bc797a324dd",
     "locked": true,
     "schema_version": 3,
     "solution": false,
     "task": false
    }
   },
   "outputs": [],
   "source": [
    "# CodeGrade step4.1\n",
    "# Replace None with appropriate code\n",
    "#'players' is the dictionary containing player information\n",
    "\n",
    "player_names = list(players.values())"
   ]
  },
  {
   "cell_type": "code",
   "execution_count": 31,
   "metadata": {},
   "outputs": [],
   "source": [
    "# This test confirms that you have created a list named player_names\n",
    "\n",
    "assert type(player_names) == list"
   ]
  },
  {
   "cell_type": "markdown",
   "metadata": {
    "nbgrader": {
     "grade": false,
     "grade_id": "cell-b9f6a94ed0a0865e",
     "locked": true,
     "schema_version": 3,
     "solution": false,
     "task": false
    }
   },
   "source": [
    "### 4.2) Create a list of tuples `player_nationalities` containing each player's name along with their nationality."
   ]
  },
  {
   "cell_type": "code",
   "execution_count": 51,
   "metadata": {
    "nbgrader": {
     "grade": false,
     "grade_id": "cell-b52f98d5a617ecee",
     "locked": true,
     "schema_version": 3,
     "solution": false,
     "task": false
    }
   },
   "outputs": [],
   "source": [
    "# CodeGrade step4.2\n",
    "# Replace None with appropriate code\n",
    "#'players' is a list of dictionaries with player information\n",
    "players = [\n",
    "    {'name': 'Player1', 'nationality': 'Country1'},\n",
    "    {'name': 'Player2', 'nationality': 'Country2'},\n",
    "    {'name': 'Player3', 'nationality': 'Country3'},\n",
    "    # ... more player dictionaries ...\n",
    "]\n",
    "\n",
    "# Create a list of tuples containing player's name and nationality\n",
    "player_nationalities = [(player['name'], player['nationality']) for player in players]"
   ]
  },
  {
   "cell_type": "code",
   "execution_count": 33,
   "metadata": {},
   "outputs": [],
   "source": [
    "# This test confirms that you have created a list named player_nationalities\n",
    "\n",
    "assert type(player_nationalities) == list"
   ]
  },
  {
   "cell_type": "markdown",
   "metadata": {
    "nbgrader": {
     "grade": false,
     "grade_id": "cell-87a014f4e268c1d7",
     "locked": true,
     "schema_version": 3,
     "solution": false,
     "task": false
    }
   },
   "source": [
    "### 4.3) Define a function `get_players_on_team()` that returns a list of names of all the players who have played on a given team.\n",
    "\n",
    "Your function should take two arguments:\n",
    "\n",
    "- A dictionary of player information\n",
    "- A string containing a team name (for which you are trying to find the player names)"
   ]
  },
  {
   "cell_type": "code",
   "execution_count": 52,
   "metadata": {
    "nbgrader": {
     "grade": false,
     "grade_id": "cell-9546ae6235a3a164",
     "locked": true,
     "schema_version": 3,
     "solution": false,
     "task": false
    }
   },
   "outputs": [],
   "source": [
    "# CodeGrade step4.3\n",
    "\n",
    "def get_players_on_team(player_dict, team_name):\n",
    "    player_list = []\n",
    "\n",
    "    # Your code here\n",
    "    for player_info in player_dict.values():\n",
    "        # CHECKING if the player has a 'teams' key and if the specified team is in the list\n",
    "        if 'teams' in player_info and team_name in player_info['teams']:\n",
    "            player_list.append(player_info['name'])\n",
    "\n",
    "    return player_list"
   ]
  },
  {
   "cell_type": "code",
   "execution_count": 56,
   "metadata": {},
   "outputs": [],
   "source": [
    "#'players' is a DICTIONARY OF PLAYER INFORMATION\n",
    "players = {\n",
    "    1: {'name': 'Cristiano Ronaldo', 'teams': ['Manchester United', 'Real Madrid', 'Juventus']},\n",
    "    2: {'name': 'De Gea', 'teams': ['Manchester United', 'Atletico Madrid']},\n",
    "    }"
   ]
  },
  {
   "cell_type": "code",
   "execution_count": 57,
   "metadata": {},
   "outputs": [],
   "source": [
    "# This test confirms that get_players_on_team() returns the right names for Manchester United\n",
    "\n",
    "manchester_united_players = ['Cristiano Ronaldo', 'De Gea']\n",
    "players_on_manchester_united = get_players_on_team(players, 'Manchester United')\n",
    "\n",
    "assert players_on_manchester_united == manchester_united_players"
   ]
  },
  {
   "cell_type": "code",
   "execution_count": null,
   "metadata": {},
   "outputs": [],
   "source": []
  }
 ],
 "metadata": {
  "celltoolbar": "Create Assignment",
  "kernelspec": {
   "display_name": "Python 3 (ipykernel)",
   "language": "python",
   "name": "python3"
  },
  "language_info": {
   "codemirror_mode": {
    "name": "ipython",
    "version": 3
   },
   "file_extension": ".py",
   "mimetype": "text/x-python",
   "name": "python",
   "nbconvert_exporter": "python",
   "pygments_lexer": "ipython3",
   "version": "3.11.7"
  }
 },
 "nbformat": 4,
 "nbformat_minor": 4
}
